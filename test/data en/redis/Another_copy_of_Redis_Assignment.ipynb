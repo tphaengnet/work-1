{
  "cells": [
    {
      "cell_type": "markdown",
      "metadata": {
        "id": "jGnXpDONw-FL"
      },
      "source": [
        "# Redis Assignment\n",
        "In this assignment, you will access a redis server and user redis commands to find out answers.  The redis server is at *lab.aimet.tech*.  You also have to authenticate as username 'hw' with password 'hw'.  \n",
        "\n",
        "The populated data in the redis database is similar to the example \"simple social network\" in the class.  Answer all questions in mycourseville assignment.\n",
        "\n",
        "Note that this user can only use \"read\" commands e.g. \"get\", \"lrange\", \"llen\", \"scan\", etc."
      ]
    },
    {
      "cell_type": "code",
      "execution_count": null,
      "metadata": {
        "colab": {
          "base_uri": "https://localhost:8080/"
        },
        "id": "aVp955T0w-FN",
        "outputId": "537e02c0-12dd-468b-d875-8bda8aac9574"
      },
      "outputs": [
        {
          "name": "stdout",
          "output_type": "stream",
          "text": [
            "Collecting redis\n",
            "  Downloading redis-5.0.1-py3-none-any.whl (250 kB)\n",
            "\u001b[2K     \u001b[90m━━━━━━━━━━━━━━━━━━━━━━━━━━━━━━━━━━━━━━━\u001b[0m \u001b[32m250.3/250.3 kB\u001b[0m \u001b[31m4.3 MB/s\u001b[0m eta \u001b[36m0:00:00\u001b[0m\n",
            "\u001b[?25hRequirement already satisfied: async-timeout>=4.0.2 in /usr/local/lib/python3.10/dist-packages (from redis) (4.0.3)\n",
            "Installing collected packages: redis\n",
            "Successfully installed redis-5.0.1\n"
          ]
        }
      ],
      "source": [
        "# we will have to install redis in colab\n",
        "import sys\n",
        "IN_COLAB = 'google.colab' in sys.modules\n",
        "if IN_COLAB:\n",
        "  !pip install redis"
      ]
    },
    {
      "cell_type": "code",
      "execution_count": null,
      "metadata": {
        "id": "j2fS6WKvw-FO"
      },
      "outputs": [],
      "source": [
        "import redis"
      ]
    },
    {
      "cell_type": "code",
      "execution_count": null,
      "metadata": {
        "colab": {
          "base_uri": "https://localhost:8080/"
        },
        "id": "LDl3W2RUw-FO",
        "outputId": "bd59d5a4-f5b4-4a5e-e5c3-99afcd39fc77"
      },
      "outputs": [
        {
          "data": {
            "text/plain": [
              "True"
            ]
          },
          "execution_count": 3,
          "metadata": {},
          "output_type": "execute_result"
        }
      ],
      "source": [
        "rd = redis.Redis(host='lab.aimet.tech', charset=\"utf-8\", decode_responses=True)\n",
        "rd.auth(username='hw', password='hw')"
      ]
    },
    {
      "cell_type": "code",
      "execution_count": null,
      "metadata": {
        "colab": {
          "base_uri": "https://localhost:8080/"
        },
        "id": "w5SPS-zq-EbX",
        "outputId": "9e490d69-4ba9-4434-e577-983abfb0f014"
      },
      "outputs": [
        {
          "data": {
            "text/plain": [
              "['user:542:follows',\n",
              " 'user:696:follows',\n",
              " 'user:539:followed_by',\n",
              " 'user:577:name',\n",
              " 'user:526:name',\n",
              " 'user:636:name',\n",
              " 'user:601:followed_by',\n",
              " 'user:591:follows',\n",
              " 'user:506:follows',\n",
              " 'username:lovesickOrange5',\n",
              " 'user:626:name',\n",
              " 'user:532:name',\n",
              " 'user:515:follows',\n",
              " 'user:583:followed_by',\n",
              " 'user:541:followed_by',\n",
              " 'user:530:name',\n",
              " 'username:culturedSalt6',\n",
              " 'user:542:name',\n",
              " 'user:599:followed_by',\n",
              " 'user:581:follows',\n",
              " 'user:520:name',\n",
              " 'user:664:name',\n",
              " 'user:588:name',\n",
              " 'username:madLollies6',\n",
              " 'user:679:follows',\n",
              " 'user:630:followed_by',\n",
              " 'user:573:name',\n",
              " 'user:520:followed_by',\n",
              " 'user:528:followed_by',\n",
              " 'user:569:followed_by',\n",
              " 'user:616:name',\n",
              " 'username:debonairViper2',\n",
              " 'user:690:followed_by',\n",
              " 'user:558:follows',\n",
              " 'user:509:followed_by',\n",
              " 'user:619:name',\n",
              " 'user:533:name',\n",
              " 'username:outlyingTeal8',\n",
              " 'username:boredSeafowl3',\n",
              " 'username:cheerfulSnail4',\n",
              " 'user:610:followed_by',\n",
              " 'user:604:name',\n",
              " 'username:cautiousLion2',\n",
              " 'username:somberChamois8',\n",
              " 'user:529:followed_by',\n",
              " 'username:pacifiedCod4',\n",
              " 'user:600:followed_by',\n",
              " 'user:659:follows',\n",
              " 'user:674:name',\n",
              " 'user:575:followed_by',\n",
              " 'user:649:name',\n",
              " 'user:524:followed_by',\n",
              " 'user:553:followed_by',\n",
              " 'user:594:followed_by',\n",
              " 'user:627:follows',\n",
              " 'user:535:followed_by',\n",
              " 'user:546:followed_by',\n",
              " 'user:577:follows',\n",
              " 'username:grizzledOryx9',\n",
              " 'user:620:name',\n",
              " 'user:554:name',\n",
              " 'user:593:follows',\n",
              " 'user:655:followed_by',\n",
              " 'user:639:name',\n",
              " 'user:697:follows',\n",
              " 'user:590:name',\n",
              " 'username:tautOrange5',\n",
              " 'user:686:name',\n",
              " 'user:676:name',\n",
              " 'user:633:follows',\n",
              " 'user:696:followed_by',\n",
              " 'user:501:followed_by',\n",
              " 'user:695:name',\n",
              " 'user:642:followed_by',\n",
              " 'username:enragedTacos0',\n",
              " 'username:blissfulSardines1',\n",
              " 'user:511:name',\n",
              " 'user:681:follows',\n",
              " 'username:dearGranola5',\n",
              " 'user:637:name',\n",
              " 'user:680:followed_by',\n",
              " 'username:needyChough7',\n",
              " 'user:660:follows',\n",
              " 'user:610:follows',\n",
              " 'user:689:name',\n",
              " 'user:518:follows',\n",
              " 'user:636:follows',\n",
              " 'user:675:name',\n",
              " 'user:544:follows',\n",
              " 'user:685:followed_by',\n",
              " 'user:653:name',\n",
              " 'username:guiltyGelding4',\n",
              " 'user:556:followed_by',\n",
              " 'user:522:followed_by',\n",
              " 'username:drearyGarlic7',\n",
              " 'username:pleasedOil8',\n",
              " 'username:enragedSausage0',\n",
              " 'user:641:followed_by',\n",
              " 'user:581:followed_by',\n",
              " 'user:661:followed_by',\n",
              " 'username:holisticDinosaur1',\n",
              " 'user:580:followed_by',\n",
              " 'user:536:follows',\n",
              " 'user:612:name',\n",
              " 'user:558:name',\n",
              " 'user:618:follows',\n",
              " 'user:524:follows',\n",
              " 'user:695:follows',\n",
              " 'username:betrayedOwl2',\n",
              " 'user:562:follows',\n",
              " 'username:anxiousDoves1',\n",
              " 'username:lyingBaboon1',\n",
              " 'username:troubledFerret5',\n",
              " 'username:crummyBittern0',\n",
              " 'username:mereMacaw4',\n",
              " 'username:dejectedCardinal2',\n",
              " 'username:pacifiedCaviar9',\n",
              " 'username:dearCardinal6',\n",
              " 'user:569:follows',\n",
              " 'user:550:name',\n",
              " 'username:murkyPoultry0',\n",
              " 'user:634:follows',\n",
              " 'username:pridefulDoves3',\n",
              " 'username:cockyGatorade9',\n",
              " 'user:516:follows',\n",
              " 'user:628:followed_by',\n",
              " 'user:692:followed_by',\n",
              " 'user:689:followed_by',\n",
              " 'username:selfishFalcon5',\n",
              " 'user:523:name',\n",
              " 'username:obsessedTuna3',\n",
              " 'user:673:name',\n",
              " 'user:567:name',\n",
              " 'user:559:followed_by',\n",
              " 'user:634:name',\n",
              " 'user:691:follows',\n",
              " 'username:truthfulBaboon0',\n",
              " 'username:anxiousSalami8',\n",
              " 'user:598:follows',\n",
              " 'username:mildCod6',\n",
              " 'user:550:followed_by',\n",
              " 'user:547:name',\n",
              " 'user:548:name',\n",
              " 'user:607:follows',\n",
              " 'user:531:follows',\n",
              " 'user:697:followed_by',\n",
              " 'username:lovesickUnicorn1',\n",
              " 'user:592:name',\n",
              " 'user:557:name',\n",
              " 'user:600:name',\n",
              " 'user:561:name',\n",
              " 'user:691:name',\n",
              " 'user:516:name',\n",
              " 'user:679:name',\n",
              " 'user:512:followed_by',\n",
              " 'user:561:follows',\n",
              " 'user:596:follows',\n",
              " 'user:624:name',\n",
              " 'user:623:name',\n",
              " 'username:innocentHyena5',\n",
              " 'user:640:name',\n",
              " 'user:675:followed_by',\n",
              " 'user:551:follows',\n",
              " 'user:515:followed_by',\n",
              " 'user:508:followed_by',\n",
              " 'user:663:follows',\n",
              " 'user:632:followed_by',\n",
              " 'user:682:followed_by',\n",
              " 'user:611:follows',\n",
              " 'username:holisticCoconut6',\n",
              " 'user:613:follows',\n",
              " 'user:595:follows',\n",
              " 'user:589:name',\n",
              " 'user:680:follows',\n",
              " 'username:relievedTortoise4',\n",
              " 'user:651:follows',\n",
              " 'username:peacefulOtter5',\n",
              " 'user:641:name',\n",
              " 'username:forsakenOcelot0',\n",
              " 'user:635:followed_by',\n",
              " 'user:615:follows',\n",
              " 'user:629:followed_by',\n",
              " 'user:582:follows',\n",
              " 'user:609:followed_by',\n",
              " 'username:cheerfulCordial9',\n",
              " 'user:515:name',\n",
              " 'user:597:follows',\n",
              " 'user:513:follows',\n",
              " 'user:627:name',\n",
              " 'user:528:follows',\n",
              " 'user:564:follows',\n",
              " 'username:debonairShads3',\n",
              " 'user:667:follows',\n",
              " 'user:591:followed_by',\n",
              " 'user:503:followed_by',\n",
              " 'user:634:followed_by',\n",
              " 'user:619:followed_by',\n",
              " 'user:544:name',\n",
              " 'user:555:followed_by',\n",
              " 'user:669:name',\n",
              " 'username:sincereCoati2',\n",
              " 'user:621:follows',\n",
              " 'user:585:followed_by',\n",
              " 'username:similarSeagull7',\n",
              " 'user:672:followed_by',\n",
              " 'user:519:name',\n",
              " 'user:642:name',\n",
              " 'username:resolvedFish7',\n",
              " 'user:698:name',\n",
              " 'user:559:name',\n",
              " 'user:530:follows',\n",
              " 'user:700:name',\n",
              " 'user:523:follows',\n",
              " 'user:502:follows',\n",
              " 'username:ashamedCrackers9',\n",
              " 'username:brainyGarlic6',\n",
              " 'user:648:followed_by',\n",
              " 'user:666:follows',\n",
              " 'user:603:follows',\n",
              " 'user:519:followed_by',\n",
              " 'username:humorousChough1',\n",
              " 'username:grumpyLocust4',\n",
              " 'user:534:followed_by',\n",
              " 'user:506:name',\n",
              " 'user:645:followed_by',\n",
              " 'user:547:followed_by',\n",
              " 'username:debonairPudding9',\n",
              " 'username:grizzledOrange1',\n",
              " 'user:545:follows',\n",
              " 'user:560:followed_by',\n",
              " 'user:655:name',\n",
              " 'user:561:followed_by',\n",
              " 'user:654:follows',\n",
              " 'user:572:follows',\n",
              " 'user:621:followed_by',\n",
              " 'user:587:name',\n",
              " 'user:539:follows',\n",
              " 'user:533:follows',\n",
              " 'user:527:name',\n",
              " 'user:587:followed_by',\n",
              " 'user:685:name',\n",
              " 'username:superiorToucan3',\n",
              " 'user:526:followed_by',\n",
              " 'username:boastfulChowder1',\n",
              " 'user:573:follows',\n",
              " 'username:sadLocust2',\n",
              " 'user:640:follows',\n",
              " 'user:598:followed_by',\n",
              " 'username:exactingMussel4',\n",
              " 'username:trustingOwl0',\n",
              " 'user:694:name',\n",
              " 'username:curiousOwl7',\n",
              " 'user:541:name',\n",
              " 'user:584:followed_by',\n",
              " 'user:534:name',\n",
              " 'user:692:name',\n",
              " 'user:639:followed_by',\n",
              " 'username:scornfulSeafowl4',\n",
              " 'user:543:followed_by',\n",
              " 'user:649:followed_by',\n",
              " 'username:mildCod1',\n",
              " 'user:540:followed_by',\n",
              " 'user:538:follows',\n",
              " 'user:547:follows',\n",
              " 'username:solidMuesli3',\n",
              " 'username:empathicApricots6',\n",
              " 'user:578:follows',\n",
              " 'user:652:name',\n",
              " 'user:582:followed_by',\n",
              " 'user:670:followed_by',\n",
              " 'user:568:followed_by',\n",
              " 'username:empathicMallard0',\n",
              " 'user:616:followed_by',\n",
              " 'user:685:follows',\n",
              " 'username:pitifulApples1',\n",
              " 'user:647:follows',\n",
              " 'user:549:follows',\n",
              " 'user:552:follows',\n",
              " 'user:665:follows',\n",
              " 'username:sincereFalcon0',\n",
              " 'username:soreClam0',\n",
              " 'user:506:followed_by',\n",
              " 'user:615:followed_by',\n",
              " 'username:blissfulDoves7',\n",
              " 'username:abjectLapwing9',\n",
              " 'user:648:name',\n",
              " 'username:jumpyAbalone9',\n",
              " 'user:645:follows',\n",
              " 'user:596:followed_by',\n",
              " 'user:510:followed_by',\n",
              " 'user:597:name',\n",
              " 'user:635:name',\n",
              " 'user:510:follows',\n",
              " 'user:625:name',\n",
              " 'username:sadPlover0',\n",
              " 'user:684:followed_by',\n",
              " 'user:646:name',\n",
              " 'user:699:followed_by',\n",
              " 'username:ferventBass6',\n",
              " 'user:671:followed_by',\n",
              " 'user:538:followed_by',\n",
              " 'username:worriedGatorade2',\n",
              " 'user:683:name',\n",
              " 'username:dopeyDoughnut4',\n",
              " 'user:514:name',\n",
              " 'user:676:follows',\n",
              " 'user:660:name',\n",
              " 'user:576:followed_by',\n",
              " 'username:insecureMare9',\n",
              " 'user:574:follows',\n",
              " 'username:pacifiedSheep9',\n",
              " 'user:516:followed_by',\n",
              " 'user:641:follows',\n",
              " 'user:671:name',\n",
              " 'username:curiousQuiche2',\n",
              " 'user:681:name',\n",
              " 'user:594:name',\n",
              " 'user:538:name',\n",
              " 'user:508:follows',\n",
              " 'user:693:follows',\n",
              " 'username:fondAbalone0',\n",
              " 'username:thriftyBasmati8',\n",
              " 'user:597:followed_by',\n",
              " 'username:crushedCaribou5',\n",
              " 'username:thriftyDotterel9',\n",
              " 'user:552:name',\n",
              " 'username:scornfulMuesli1',\n",
              " 'user:602:follows',\n",
              " 'user:622:name',\n",
              " 'username:excludedOcelot4',\n",
              " 'user:568:follows',\n",
              " 'username:obsessedSardines4',\n",
              " 'user:621:name',\n",
              " 'user:683:followed_by',\n",
              " 'user:631:followed_by',\n",
              " 'user:595:name',\n",
              " 'user:674:follows',\n",
              " 'user:524:name',\n",
              " 'user:626:followed_by',\n",
              " 'username:anxiousGarlic4',\n",
              " 'user:664:follows',\n",
              " 'username:curiousDinosaur2',\n",
              " 'user:624:follows',\n",
              " 'username:annoyedLemur0',\n",
              " 'username:sugarySalt6',\n",
              " 'username:alertMeerkat3',\n",
              " 'user:533:followed_by',\n",
              " 'username:eagerGelding5',\n",
              " 'user:607:followed_by',\n",
              " 'user:629:follows',\n",
              " 'user:649:follows',\n",
              " 'username:emptyEggs3',\n",
              " 'username:chicSardines6',\n",
              " 'user:539:name',\n",
              " 'user:693:followed_by',\n",
              " 'user:659:followed_by',\n",
              " 'username:fondOtter4',\n",
              " 'username:decimalGatorade1',\n",
              " 'user:682:name',\n",
              " 'user:657:follows',\n",
              " 'user:525:follows',\n",
              " 'username:obsessedLemur9',\n",
              " 'user:606:followed_by',\n",
              " 'username:grizzledPorpoise2',\n",
              " 'user:603:name',\n",
              " 'user:690:follows',\n",
              " 'user:681:followed_by',\n",
              " 'user:680:name',\n",
              " 'user:650:followed_by',\n",
              " 'user:694:followed_by',\n",
              " 'username:stressedThrush1',\n",
              " 'user:662:follows',\n",
              " 'username:mercifulApricots7',\n",
              " 'user:646:follows',\n",
              " 'username:cockyVenison6',\n",
              " 'user:588:followed_by',\n",
              " 'username:pacifiedRat4',\n",
              " 'username:zestyApples7',\n",
              " 'user:513:name',\n",
              " 'user:575:name',\n",
              " 'username:sugaryOryx6',\n",
              " 'user:574:followed_by',\n",
              " 'user:618:name',\n",
              " 'username:pleasedMackerel1',\n",
              " 'user:531:name',\n",
              " 'username:wrathfulClam4',\n",
              " 'user:699:name',\n",
              " 'username:shamefulOil5',\n",
              " 'user:687:followed_by',\n",
              " 'username:giddyCur6',\n",
              " 'user:537:followed_by',\n",
              " 'user:587:follows',\n",
              " 'user:654:name',\n",
              " 'user:514:follows',\n",
              " 'user:615:name',\n",
              " 'user:647:followed_by',\n",
              " 'user:568:name',\n",
              " 'user:549:name',\n",
              " 'user:625:followed_by',\n",
              " 'user:612:followed_by',\n",
              " 'user:586:followed_by',\n",
              " 'username:boastfulCoconut1',\n",
              " 'user:633:followed_by',\n",
              " 'username:wakefulKitten1',\n",
              " 'user:677:name',\n",
              " 'user:662:followed_by',\n",
              " 'user:502:name',\n",
              " 'user:560:name',\n",
              " 'user:554:follows',\n",
              " 'user:543:name',\n",
              " 'user:576:name',\n",
              " 'user:651:name',\n",
              " 'user:511:followed_by',\n",
              " 'user:525:followed_by',\n",
              " 'user:521:name',\n",
              " 'user:676:followed_by',\n",
              " 'username:joyfulDunbird0',\n",
              " 'user:638:followed_by',\n",
              " 'user:563:followed_by',\n",
              " 'user:540:follows',\n",
              " 'user:637:follows',\n",
              " 'user:512:follows',\n",
              " 'user:577:followed_by',\n",
              " 'user:687:name',\n",
              " 'user:648:follows',\n",
              " 'username:obsessedIguana9',\n",
              " 'user:532:followed_by',\n",
              " 'username:holisticLion7',\n",
              " 'user:644:name',\n",
              " 'user:656:name',\n",
              " 'user:559:follows',\n",
              " 'user:605:name',\n",
              " 'username:chicRhino1',\n",
              " 'username:cheerfulCod0',\n",
              " 'user:617:name',\n",
              " 'user:504:name',\n",
              " 'user:696:name',\n",
              " 'user:576:follows',\n",
              " 'user:686:followed_by',\n",
              " 'user:558:followed_by',\n",
              " 'user:571:name',\n",
              " 'user:620:followed_by',\n",
              " 'username:spiritedPretzels3',\n",
              " 'user:510:name',\n",
              " 'user:542:followed_by',\n",
              " 'user:505:followed_by',\n",
              " 'user:502:followed_by',\n",
              " 'username:culturedBittern0',\n",
              " 'username:zestyLard9',\n",
              " 'user:590:follows',\n",
              " 'user:599:name',\n",
              " 'user:602:name',\n",
              " 'username:selfishKitten4',\n",
              " 'username:forsakenLapwing8',\n",
              " 'user:582:name',\n",
              " 'username:mellowLizard3',\n",
              " 'username:boastfulQuiche1',\n",
              " 'user:593:followed_by',\n",
              " 'user:599:follows',\n",
              " 'user:614:name',\n",
              " 'user:545:name',\n",
              " 'user:595:followed_by',\n",
              " 'username:wornoutLion3',\n",
              " 'user:534:follows',\n",
              " 'user:614:follows',\n",
              " 'user:606:name',\n",
              " 'username:gleefulPear3',\n",
              " 'username:pluckyLocust7',\n",
              " 'username:cruelChamois6',\n",
              " 'user:694:follows',\n",
              " 'user:637:followed_by',\n",
              " 'user:663:name',\n",
              " 'user:639:follows',\n",
              " 'user:570:name',\n",
              " 'user:656:follows',\n",
              " 'user:631:follows',\n",
              " 'user:555:name',\n",
              " 'username:cautiousCrackers9',\n",
              " 'username:obsessedMagpie7',\n",
              " 'username:mildChough6',\n",
              " 'user:604:followed_by',\n",
              " 'user:580:name',\n",
              " 'user:608:follows',\n",
              " 'user:603:followed_by',\n",
              " 'user:541:follows',\n",
              " 'user:666:followed_by',\n",
              " 'user:579:follows',\n",
              " 'username:ardentWeaver9',\n",
              " 'user:540:name',\n",
              " 'user:501:follows',\n",
              " 'user:605:follows',\n",
              " 'user:667:name',\n",
              " 'user:668:followed_by',\n",
              " 'user:519:follows',\n",
              " 'username:soreSyrup1',\n",
              " 'username:stressedCrackers8',\n",
              " 'username:thriftyOtter1',\n",
              " 'user:622:followed_by',\n",
              " 'user:520:follows',\n",
              " 'username:unhappyRuffs6',\n",
              " 'username:zestyWildfowl6',\n",
              " 'user:572:followed_by',\n",
              " 'user:657:followed_by',\n",
              " 'user:551:name',\n",
              " 'user:617:follows',\n",
              " 'user:624:followed_by',\n",
              " 'user:591:name',\n",
              " 'user:668:follows',\n",
              " 'user:501:name',\n",
              " 'username:solidPaella1',\n",
              " 'user:548:follows',\n",
              " 'user:571:followed_by',\n",
              " 'user:562:name',\n",
              " 'user:530:followed_by',\n",
              " 'username:innocentHare8',\n",
              " 'username:blissfulRhino4',\n",
              " 'user:517:name',\n",
              " 'username:chicRice0',\n",
              " 'user:691:followed_by',\n",
              " 'user:583:name',\n",
              " 'user:658:follows',\n",
              " 'user:505:name',\n",
              " 'username:obsessedBurritos4',\n",
              " 'user:678:followed_by',\n",
              " 'user:504:followed_by',\n",
              " 'user:643:followed_by',\n",
              " 'user:551:followed_by',\n",
              " 'user:573:followed_by',\n",
              " 'username:cynicalWidgeon3',\n",
              " 'user:652:follows',\n",
              " 'user:521:followed_by',\n",
              " 'user:661:name',\n",
              " 'user:613:name',\n",
              " 'username:madRaisins0',\n",
              " 'user:579:name',\n",
              " 'user:688:followed_by',\n",
              " 'user:548:followed_by',\n",
              " 'user:643:follows',\n",
              " 'user:586:name',\n",
              " 'username:pridefulCardinal0',\n",
              " 'user:514:followed_by',\n",
              " 'username:jubilantEland6',\n",
              " 'user:623:followed_by',\n",
              " 'user:658:name',\n",
              " 'username:pitifulStork2',\n",
              " 'user:563:follows',\n",
              " 'user:521:follows',\n",
              " 'username:cruelSausage6',\n",
              " 'user:668:name',\n",
              " 'user:503:name',\n",
              " 'username:culturedAbalone6',\n",
              " 'user:665:followed_by',\n",
              " 'user:643:name',\n",
              " 'user:584:follows',\n",
              " 'user:567:follows',\n",
              " 'user:675:follows',\n",
              " 'user:633:name',\n",
              " 'username:euphoricHoopoe0',\n",
              " 'username:thriftyCod4',\n",
              " 'username:thriftyChamois8',\n",
              " 'username:needyPiglet0',\n",
              " 'user:592:follows',\n",
              " 'user:590:followed_by',\n",
              " 'user:601:follows',\n",
              " 'user:617:followed_by',\n",
              " 'username:boastfulRat2',\n",
              " 'username:eagerGnu8',\n",
              " 'user:508:name',\n",
              " 'user:592:followed_by',\n",
              " 'user:684:follows',\n",
              " 'user:571:follows',\n",
              " 'user:623:follows',\n",
              " 'user:585:name',\n",
              " 'user:578:followed_by',\n",
              " 'username:pitifulOatmeal9',\n",
              " 'user:509:name',\n",
              " 'username:peacefulSwift1',\n",
              " 'username:panickyBaboon8',\n",
              " 'user:674:followed_by',\n",
              " 'user:601:name',\n",
              " 'user:657:name',\n",
              " 'user:626:follows',\n",
              " 'user:585:follows',\n",
              " 'user:536:name',\n",
              " 'user:513:followed_by',\n",
              " 'user:666:name',\n",
              " 'username:grizzledVenison5',\n",
              " 'user:644:follows',\n",
              " 'user:531:followed_by',\n",
              " 'user:545:followed_by',\n",
              " 'user:518:name',\n",
              " 'user:565:follows',\n",
              " 'user:536:followed_by',\n",
              " 'user:652:followed_by',\n",
              " 'user:638:name',\n",
              " 'username:adoringMallard7',\n",
              " 'user:552:followed_by',\n",
              " 'user:669:follows',\n",
              " 'user:610:name',\n",
              " 'user:687:follows',\n",
              " 'username:yearningPaella1',\n",
              " 'user:557:followed_by',\n",
              " 'username:euphoricCod0',\n",
              " 'user:566:followed_by',\n",
              " 'user:607:name',\n",
              " 'user:570:followed_by',\n",
              " 'user:584:name',\n",
              " 'user:589:follows',\n",
              " 'user:644:followed_by',\n",
              " 'username:shyOwl5',\n",
              " 'username:betrayedCamel9',\n",
              " 'user:511:follows',\n",
              " 'user:598:name',\n",
              " 'user:575:follows',\n",
              " 'user:518:followed_by',\n",
              " 'user:556:name',\n",
              " 'user:608:name',\n",
              " 'username:cautiousPepper5',\n",
              " 'user:650:name',\n",
              " 'username:exactingPonie6',\n",
              " 'user:630:follows',\n",
              " 'user:667:followed_by',\n",
              " 'user:522:name',\n",
              " 'username:holisticMuesli0',\n",
              " 'user:646:followed_by',\n",
              " 'user:546:follows',\n",
              " 'user:699:follows',\n",
              " 'user:504:follows',\n",
              " 'user:613:followed_by',\n",
              " 'user:560:follows',\n",
              " 'user:679:followed_by',\n",
              " 'username:drearyStork1',\n",
              " 'username:curiousBagels7',\n",
              " 'user:569:name',\n",
              " 'user:700:follows',\n",
              " 'user:631:name',\n",
              " 'user:570:follows',\n",
              " 'user:660:followed_by',\n",
              " 'username:worldlyWildfowl8',\n",
              " 'user:688:name',\n",
              " 'username:finickyFalcon7',\n",
              " 'username:joyfulMoth5',\n",
              " 'user:507:follows',\n",
              " 'username:needyToucan3',\n",
              " 'user:653:followed_by',\n",
              " 'username:tautOryx7',\n",
              " 'username:grudgingMussel2',\n",
              " 'user:606:follows',\n",
              " 'user:563:name',\n",
              " 'user:588:follows',\n",
              " 'user:688:follows',\n",
              " 'user:589:followed_by',\n",
              " 'user:618:followed_by',\n",
              " 'user:651:followed_by',\n",
              " 'user:628:name',\n",
              " 'user:662:name',\n",
              " 'user:671:follows',\n",
              " 'user:647:name',\n",
              " 'user:693:name',\n",
              " 'user:562:followed_by',\n",
              " 'user:636:followed_by',\n",
              " 'user:678:follows',\n",
              " 'user:566:name',\n",
              " 'username:humorousDinosaur4',\n",
              " 'user:665:name',\n",
              " 'username:pacifiedCamel4',\n",
              " 'username:panickyEland4',\n",
              " 'user:645:name',\n",
              " 'username:eagerTortoise1',\n",
              " 'user:614:followed_by',\n",
              " 'user:677:followed_by',\n",
              " 'username:dearPorpoise2',\n",
              " 'user:630:name',\n",
              " 'user:535:name',\n",
              " 'user:594:follows',\n",
              " 'user:549:followed_by',\n",
              " 'user:609:name',\n",
              " 'user:581:name',\n",
              " 'user:593:name',\n",
              " 'username:trustingLlama9',\n",
              " 'user:527:followed_by',\n",
              " 'user:686:follows',\n",
              " 'user:602:followed_by',\n",
              " 'user:529:name',\n",
              " 'user:638:follows',\n",
              " 'user:553:name',\n",
              " 'user:564:name',\n",
              " 'user:673:followed_by',\n",
              " 'user:611:name',\n",
              " 'username:aboardCardinal3',\n",
              " 'user:655:follows',\n",
              " 'user:627:followed_by',\n",
              " 'username:dreadfulTacos8',\n",
              " 'user:543:follows',\n",
              " 'user:557:follows',\n",
              " 'user:611:followed_by',\n",
              " 'user:517:followed_by',\n",
              " 'username:empathicCurlew0',\n",
              " 'user:654:followed_by',\n",
              " 'username:mildGelding4',\n",
              " 'user:525:name',\n",
              " 'username:eagerCur4',\n",
              " 'username:wornoutPlover0',\n",
              " 'username:bubblyFalcon3',\n",
              " 'user:507:name',\n",
              " 'user:629:name',\n",
              " 'user:690:name',\n",
              " 'username:excludedCardinal6',\n",
              " 'user:554:followed_by',\n",
              " 'user:544:followed_by',\n",
              " 'user:684:name',\n",
              " 'user:664:followed_by',\n",
              " 'user:564:followed_by',\n",
              " 'user:529:follows',\n",
              " 'user:632:name',\n",
              " 'user:574:name',\n",
              " 'user:698:followed_by',\n",
              " 'username:puzzledLollies9',\n",
              " 'user:632:follows',\n",
              " 'user:596:name',\n",
              " 'user:567:followed_by',\n",
              " 'user:659:name',\n",
              " 'user:604:follows',\n",
              " 'username:cockyCamel8',\n",
              " 'user:517:follows',\n",
              " 'user:528:name',\n",
              " 'user:672:name',\n",
              " 'username:boastfulApricots7',\n",
              " 'username:giddyCheetah7',\n",
              " 'user:628:follows',\n",
              " 'user:642:follows',\n",
              " 'user:537:follows',\n",
              " 'user:579:followed_by',\n",
              " 'user:625:follows',\n",
              " 'user:565:name',\n",
              " 'user:572:name',\n",
              " 'username:wakefulSheep5',\n",
              " 'user:658:followed_by',\n",
              " 'user:580:follows',\n",
              " 'user:523:followed_by',\n",
              " 'user:586:follows',\n",
              " 'user:695:followed_by',\n",
              " 'user:565:followed_by',\n",
              " 'username:zestyPear9',\n",
              " 'user:605:followed_by',\n",
              " 'user:512:name',\n",
              " 'user:555:follows',\n",
              " 'user:608:followed_by',\n",
              " 'user:505:follows',\n",
              " 'user:526:follows',\n",
              " 'user:620:follows',\n",
              " 'user:507:followed_by',\n",
              " 'user:656:followed_by',\n",
              " 'username:murkySnail9',\n",
              " 'username:euphoricRuffs1',\n",
              " 'user:663:followed_by',\n",
              " 'username:excitedPie4',\n",
              " 'username:solemnClam4',\n",
              " 'user:566:follows',\n",
              " 'user:616:follows',\n",
              " 'user:692:follows',\n",
              " 'user:682:follows',\n",
              " 'user:669:followed_by',\n",
              " 'user:670:name',\n",
              " 'user:640:followed_by',\n",
              " 'user:619:follows',\n",
              " 'user:578:name',\n",
              " 'username:ashamedChough8',\n",
              " 'user:537:name',\n",
              " 'user:546:name',\n",
              " 'user:700:followed_by',\n",
              " 'user:612:follows',\n",
              " 'user:697:name',\n",
              " 'user:678:name',\n",
              " 'user:503:follows',\n",
              " 'username:anxiousCrackers3',\n",
              " 'username:shamefulJerky8']"
            ]
          },
          "execution_count": 43,
          "metadata": {},
          "output_type": "execute_result"
        }
      ],
      "source": [
        "rd.keys()"
      ]
    },
    {
      "cell_type": "markdown",
      "metadata": {
        "id": "pXg2jcHXw-FP"
      },
      "source": [
        "## What is the username of user id \"600\"?"
      ]
    },
    {
      "cell_type": "code",
      "execution_count": null,
      "metadata": {
        "colab": {
          "base_uri": "https://localhost:8080/",
          "height": 35
        },
        "id": "MWalTsXOw-FP",
        "outputId": "e3e6f88b-0741-45d4-a509-0e40212e0d2c"
      },
      "outputs": [
        {
          "data": {
            "application/vnd.google.colaboratory.intrinsic+json": {
              "type": "string"
            },
            "text/plain": [
              "'cautiousCrackers9'"
            ]
          },
          "execution_count": 34,
          "metadata": {},
          "output_type": "execute_result"
        }
      ],
      "source": [
        "rd.get('user:600:name')"
      ]
    },
    {
      "cell_type": "markdown",
      "metadata": {
        "id": "l5nPXURow-FP"
      },
      "source": [
        "## What is the id of username \"excitedPie4\" ?"
      ]
    },
    {
      "cell_type": "code",
      "execution_count": null,
      "metadata": {
        "colab": {
          "base_uri": "https://localhost:8080/",
          "height": 35
        },
        "id": "Ds4tSd11w-FP",
        "outputId": "a71b8c46-e981-41a0-82a2-85374c712b55"
      },
      "outputs": [
        {
          "data": {
            "application/vnd.google.colaboratory.intrinsic+json": {
              "type": "string"
            },
            "text/plain": [
              "'567'"
            ]
          },
          "execution_count": 33,
          "metadata": {},
          "output_type": "execute_result"
        }
      ],
      "source": [
        "rd.get('username:excitedPie4')"
      ]
    },
    {
      "cell_type": "markdown",
      "metadata": {
        "id": "IUYQDOeFw-FP"
      },
      "source": [
        "## How many users that \"excitedPie4\" follows ?"
      ]
    },
    {
      "cell_type": "code",
      "execution_count": null,
      "metadata": {
        "colab": {
          "base_uri": "https://localhost:8080/"
        },
        "id": "mkqFN9ob3_-g",
        "outputId": "6e83a8d6-6145-4087-b372-b15fa2ce8f5d"
      },
      "outputs": [
        {
          "data": {
            "text/plain": [
              "9"
            ]
          },
          "execution_count": 17,
          "metadata": {},
          "output_type": "execute_result"
        }
      ],
      "source": [
        "rd.scard('user:567:follows')"
      ]
    },
    {
      "cell_type": "code",
      "execution_count": null,
      "metadata": {
        "colab": {
          "base_uri": "https://localhost:8080/"
        },
        "id": "ujvJ-8Jhw-FP",
        "outputId": "aaff1e7d-7f8c-4aa0-da0b-ed930a47c7a1"
      },
      "outputs": [
        {
          "data": {
            "text/plain": [
              "{'529', '537', '556', '566', '587', '603', '609', '622', '670'}"
            ]
          },
          "execution_count": 16,
          "metadata": {},
          "output_type": "execute_result"
        }
      ],
      "source": [
        "rd.smembers('user:567:follows')"
      ]
    },
    {
      "cell_type": "markdown",
      "metadata": {
        "id": "YwKYoQYVw-FP"
      },
      "source": [
        "## How many users are there in the database?"
      ]
    },
    {
      "cell_type": "code",
      "execution_count": null,
      "metadata": {
        "colab": {
          "base_uri": "https://localhost:8080/"
        },
        "id": "Mc8Wpl6mw-FP",
        "outputId": "e13d4d3e-e828-43ac-fbd0-bdb9e375a3fa"
      },
      "outputs": [
        {
          "name": "stdout",
          "output_type": "stream",
          "text": [
            "Total number of keys matching the pattern 'username:*': 200\n"
          ]
        }
      ],
      "source": [
        "\n",
        "# Pattern to match keys (e.g., keys starting with \"user\")\n",
        "pattern = \"username:*\"\n",
        "\n",
        "# Initialize the cursor to start at 0\n",
        "cursor = 0\n",
        "\n",
        "# Initialize the count\n",
        "count = 0\n",
        "\n",
        "# Use the SCAN command to iterate through keys matching the pattern\n",
        "while True:\n",
        "    # Perform the scan and get the next cursor and matching keys\n",
        "    cursor, keys = rd.scan(cursor, match=pattern, count=1000)\n",
        "\n",
        "    # Increment the count by the number of matching keys found in this iteration\n",
        "    count += len(keys)\n",
        "\n",
        "    # Check if the cursor is 0, indicating the end of the scan\n",
        "    if cursor == 0:\n",
        "        break\n",
        "\n",
        "print(f\"Total number of keys matching the pattern '{pattern}': {count}\")"
      ]
    },
    {
      "cell_type": "markdown",
      "metadata": {
        "id": "gJAAkvx2w-FP"
      },
      "source": [
        "## What is the average number of follows per user?"
      ]
    },
    {
      "cell_type": "code",
      "execution_count": null,
      "metadata": {
        "colab": {
          "base_uri": "https://localhost:8080/"
        },
        "id": "hShEYVtLw-FQ",
        "outputId": "8a54320d-8c3b-4ee5-f530-778085871002"
      },
      "outputs": [
        {
          "name": "stdout",
          "output_type": "stream",
          "text": [
            "['user:542:follows', 'user:637:follows', 'user:519:follows', 'user:697:follows', 'user:647:follows', 'user:615:follows', 'user:644:follows', 'user:686:follows', 'user:578:follows', 'user:652:follows', 'user:573:follows', 'user:529:follows', 'user:528:follows', 'user:646:follows', 'user:514:follows', 'user:536:follows', 'user:624:follows', 'user:533:follows', 'user:654:follows', 'user:680:follows', 'user:602:follows', 'user:534:follows', 'user:614:follows', 'user:678:follows', 'user:584:follows', 'user:567:follows', 'user:675:follows', 'user:623:follows', 'user:694:follows', 'user:648:follows', 'user:581:follows', 'user:545:follows', 'user:608:follows', 'user:577:follows', 'user:570:follows', 'user:611:follows', 'user:649:follows', 'user:555:follows', 'user:640:follows', 'user:668:follows', 'user:660:follows', 'user:599:follows', 'user:559:follows', 'user:538:follows', 'user:547:follows', 'user:513:follows', 'user:554:follows', 'user:516:follows', 'user:501:follows', 'user:507:follows', 'user:604:follows', 'user:503:follows', 'user:674:follows', 'user:633:follows', 'user:606:follows', 'user:663:follows', 'user:645:follows', 'user:564:follows', 'user:585:follows', 'user:695:follows', 'user:656:follows', 'user:631:follows', 'user:676:follows', 'user:625:follows', 'user:634:follows', 'user:541:follows', 'user:543:follows', 'user:632:follows', 'user:612:follows', 'user:591:follows', 'user:587:follows', 'user:523:follows', 'user:502:follows', 'user:546:follows', 'user:699:follows', 'user:642:follows', 'user:537:follows', 'user:539:follows', 'user:643:follows', 'user:692:follows', 'user:655:follows', 'user:595:follows', 'user:505:follows', 'user:518:follows', 'user:510:follows', 'user:627:follows', 'user:589:follows', 'user:598:follows', 'user:681:follows', 'user:619:follows', 'user:679:follows', 'user:525:follows', 'user:630:follows', 'user:607:follows', 'user:517:follows', 'user:621:follows', 'user:592:follows', 'user:601:follows', 'user:696:follows', 'user:512:follows', 'user:549:follows', 'user:582:follows', 'user:566:follows', 'user:700:follows', 'user:586:follows', 'user:617:follows', 'user:563:follows', 'user:626:follows', 'user:618:follows', 'user:524:follows', 'user:594:follows', 'user:691:follows', 'user:508:follows', 'user:690:follows', 'user:682:follows', 'user:593:follows', 'user:651:follows', 'user:628:follows', 'user:688:follows', 'user:576:follows', 'user:613:follows', 'user:610:follows', 'user:667:follows', 'user:515:follows', 'user:666:follows', 'user:603:follows', 'user:551:follows', 'user:687:follows', 'user:605:follows', 'user:641:follows', 'user:657:follows', 'user:530:follows', 'user:684:follows', 'user:571:follows', 'user:658:follows', 'user:588:follows', 'user:616:follows', 'user:565:follows', 'user:574:follows', 'user:638:follows', 'user:629:follows', 'user:575:follows', 'user:521:follows', 'user:562:follows', 'user:560:follows', 'user:520:follows', 'user:693:follows', 'user:597:follows', 'user:572:follows', 'user:669:follows', 'user:579:follows', 'user:557:follows', 'user:540:follows', 'user:548:follows', 'user:568:follows', 'user:506:follows', 'user:639:follows', 'user:659:follows', 'user:504:follows', 'user:561:follows', 'user:596:follows', 'user:664:follows', 'user:590:follows', 'user:552:follows', 'user:665:follows', 'user:569:follows', 'user:526:follows', 'user:620:follows', 'user:636:follows', 'user:544:follows', 'user:580:follows', 'user:558:follows', 'user:511:follows', 'user:671:follows', 'user:662:follows', 'user:685:follows', 'user:531:follows']\n",
            "177\n",
            "[]\n"
          ]
        }
      ],
      "source": [
        "pattern = \"user:*:follows\"\n",
        "num =[]\n",
        "cursor = 0\n",
        "while True:\n",
        "    cursor, keys = rd.scan(cursor, match=pattern, count=1000)\n",
        "    users_list=keys\n",
        "\n",
        "    if cursor == 0:\n",
        "      break\n",
        "print(users_list)\n",
        "print(len(users_list))\n",
        "print(num)"
      ]
    },
    {
      "cell_type": "code",
      "execution_count": null,
      "metadata": {
        "colab": {
          "base_uri": "https://localhost:8080/"
        },
        "id": "3Zkx1sVpCp0C",
        "outputId": "a6574617-f4bd-41b3-c998-e9ba7966d64c"
      },
      "outputs": [
        {
          "name": "stdout",
          "output_type": "stream",
          "text": [
            "9.72316384180791\n"
          ]
        }
      ],
      "source": [
        "\n",
        "follower = [rd.scard(i) for i in users_list]\n",
        "print(sum(follower)/len(follower))"
      ]
    },
    {
      "cell_type": "markdown",
      "metadata": {
        "id": "IJDQ11Smw-FQ"
      },
      "source": [
        "## How many users follows between 5-10 users?"
      ]
    },
    {
      "cell_type": "code",
      "execution_count": null,
      "metadata": {
        "colab": {
          "base_uri": "https://localhost:8080/"
        },
        "id": "0Ksq_yDKw-FQ",
        "outputId": "2d2865b2-b0f5-4e4d-8dc3-ad2c53d42cbb"
      },
      "outputs": [
        {
          "name": "stdout",
          "output_type": "stream",
          "text": [
            "60\n"
          ]
        }
      ],
      "source": [
        "n = 0\n",
        "for i in follower:\n",
        "  if i>=5 and i<=10:\n",
        "    n+=1\n",
        "print(n)"
      ]
    },
    {
      "cell_type": "markdown",
      "metadata": {
        "id": "PXezFNAfw-FQ"
      },
      "source": [
        "## Which account has the most followers?"
      ]
    },
    {
      "cell_type": "code",
      "execution_count": null,
      "metadata": {
        "colab": {
          "base_uri": "https://localhost:8080/"
        },
        "id": "hZFSI4J-w-FQ",
        "outputId": "044de867-1c2d-46a4-b54f-76bcab60a6c1"
      },
      "outputs": [
        {
          "data": {
            "text/plain": [
              "42"
            ]
          },
          "execution_count": 66,
          "metadata": {},
          "output_type": "execute_result"
        }
      ],
      "source": [
        "max(follower)"
      ]
    },
    {
      "cell_type": "code",
      "execution_count": null,
      "metadata": {
        "colab": {
          "base_uri": "https://localhost:8080/"
        },
        "id": "HPTJcqpLFO0T",
        "outputId": "00168574-be43-4942-ea70-cbac0f5e89c4"
      },
      "outputs": [
        {
          "name": "stdout",
          "output_type": "stream",
          "text": [
            "user:566:follows\n"
          ]
        }
      ],
      "source": [
        "for i in users_list:\n",
        "  a =rd.scard(i)\n",
        "  if a == max(follower):\n",
        "    print(i)\n"
      ]
    },
    {
      "cell_type": "code",
      "execution_count": null,
      "metadata": {
        "colab": {
          "base_uri": "https://localhost:8080/"
        },
        "id": "ORsT8PHdF4SJ",
        "outputId": "ce562644-508a-4ca0-e15f-5ebe94994439"
      },
      "outputs": [
        {
          "data": {
            "text/plain": [
              "11"
            ]
          },
          "execution_count": 75,
          "metadata": {},
          "output_type": "execute_result"
        }
      ],
      "source": [
        "rd.scard('user:523:follows')"
      ]
    },
    {
      "cell_type": "code",
      "execution_count": null,
      "metadata": {
        "colab": {
          "base_uri": "https://localhost:8080/"
        },
        "id": "JAACy_4KGRoB",
        "outputId": "47be4aa2-8460-4c46-b20f-dbdf6c88a695"
      },
      "outputs": [
        {
          "data": {
            "text/plain": [
              "42"
            ]
          },
          "execution_count": 76,
          "metadata": {},
          "output_type": "execute_result"
        }
      ],
      "source": [
        "rd.scard('user:566:follows')"
      ]
    },
    {
      "cell_type": "code",
      "execution_count": null,
      "metadata": {
        "id": "CPEIEAnYGw79"
      },
      "outputs": [],
      "source": []
    }
  ],
  "metadata": {
    "colab": {
      "provenance": []
    },
    "kernelspec": {
      "display_name": "Python 3 (ipykernel)",
      "language": "python",
      "name": "python3"
    },
    "language_info": {
      "codemirror_mode": {
        "name": "ipython",
        "version": 3
      },
      "file_extension": ".py",
      "mimetype": "text/x-python",
      "name": "python",
      "nbconvert_exporter": "python",
      "pygments_lexer": "ipython3",
      "version": "3.9.13"
    },
    "toc": {
      "base_numbering": 1,
      "nav_menu": {},
      "number_sections": true,
      "sideBar": true,
      "skip_h1_title": false,
      "title_cell": "Table of Contents",
      "title_sidebar": "Contents",
      "toc_cell": false,
      "toc_position": {},
      "toc_section_display": true,
      "toc_window_display": false
    },
    "varInspector": {
      "cols": {
        "lenName": 16,
        "lenType": 16,
        "lenVar": 40
      },
      "kernels_config": {
        "python": {
          "delete_cmd_postfix": "",
          "delete_cmd_prefix": "del ",
          "library": "var_list.py",
          "varRefreshCmd": "print(var_dic_list())"
        },
        "r": {
          "delete_cmd_postfix": ") ",
          "delete_cmd_prefix": "rm(",
          "library": "var_list.r",
          "varRefreshCmd": "cat(var_dic_list()) "
        }
      },
      "types_to_exclude": [
        "module",
        "function",
        "builtin_function_or_method",
        "instance",
        "_Feature"
      ],
      "window_display": false
    }
  },
  "nbformat": 4,
  "nbformat_minor": 0
}
