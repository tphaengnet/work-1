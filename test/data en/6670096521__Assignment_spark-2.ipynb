{
  "cells": [
    {
      "cell_type": "markdown",
      "metadata": {
        "id": "mZElqG13lOuS"
      },
      "source": [
        "# Spark Preparation\n",
        "We check if we are in Google Colab.  If this is the case, install all necessary packages.\n",
        "\n",
        "To run spark in Colab, we need to first install all the dependencies in Colab environment i.e. Apache Spark 3.3.3 with hadoop 3.3, Java 8 and Findspark to locate the spark in the system. The tools installation can be carried out inside the Jupyter Notebook of the Colab.\n",
        "Learn more from [A Must-Read Guide on How to Work with PySpark on Google Colab for Data Scientists!](https://www.analyticsvidhya.com/blog/2020/11/a-must-read-guide-on-how-to-work-with-pyspark-on-google-colab-for-data-scientists/)"
      ]
    },
    {
      "cell_type": "code",
      "execution_count": null,
      "metadata": {
        "id": "yIGPEIgUlOuU"
      },
      "outputs": [],
      "source": [
        "try:\n",
        "  import google.colab\n",
        "  IN_COLAB = True\n",
        "except:\n",
        "  IN_COLAB = False"
      ]
    },
    {
      "cell_type": "code",
      "execution_count": null,
      "metadata": {
        "id": "CzwIwpqVlOuV"
      },
      "outputs": [],
      "source": [
        "if IN_COLAB:\n",
        "    !apt-get install openjdk-8-jdk-headless -qq > /dev/null\n",
        "    !wget -q https://dlcdn.apache.org/spark/spark-3.5.0/spark-3.5.0-bin-hadoop3.tgz\n",
        "    !tar xf spark-3.5.0-bin-hadoop3.tgz\n",
        "    !mv spark-3.5.0-bin-hadoop3 spark\n",
        "    !pip install -q findspark\n",
        "    import os\n",
        "    os.environ[\"JAVA_HOME\"] = \"/usr/lib/jvm/java-8-openjdk-amd64\"\n",
        "    os.environ[\"SPARK_HOME\"] = \"/content/spark\"\n"
      ]
    },
    {
      "cell_type": "code",
      "source": [
        "!pip install  -q pyspark"
      ],
      "metadata": {
        "id": "hlGMY2ktWKop"
      },
      "execution_count": null,
      "outputs": []
    },
    {
      "cell_type": "markdown",
      "metadata": {
        "id": "BzcF8RW5lOuV"
      },
      "source": [
        "# Start a Local Cluster"
      ]
    },
    {
      "cell_type": "code",
      "execution_count": null,
      "metadata": {
        "id": "ytcRr6I8lOuV"
      },
      "outputs": [],
      "source": [
        "import findspark\n",
        "findspark.init()"
      ]
    },
    {
      "cell_type": "code",
      "source": [
        "spark_url = 'local'"
      ],
      "metadata": {
        "id": "RrElToDaFRCZ"
      },
      "execution_count": null,
      "outputs": []
    },
    {
      "cell_type": "code",
      "source": [
        "from pyspark.sql import SparkSession\n",
        "from pyspark.sql.functions import col"
      ],
      "metadata": {
        "id": "-CuLFsnmFTs8"
      },
      "execution_count": null,
      "outputs": []
    },
    {
      "cell_type": "code",
      "source": [
        "spark = SparkSession.builder\\\n",
        "        .master(spark_url)\\\n",
        "        .appName('Spark SQL')\\\n",
        "        .getOrCreate()"
      ],
      "metadata": {
        "id": "3yqvZBxyFY4S"
      },
      "execution_count": null,
      "outputs": []
    },
    {
      "cell_type": "markdown",
      "metadata": {
        "id": "Zbw9t4dQlOuV"
      },
      "source": [
        "# Spark Assignment\n",
        "\n",
        "Based on the movie review dataset in 'netflix-rotten-tomatoes-metacritic-imdb.csv', answer the below questions.\n",
        "\n",
        "**Note:** do not clean or remove missing data"
      ]
    },
    {
      "cell_type": "code",
      "execution_count": null,
      "metadata": {
        "id": "AyX01VkVlOuV",
        "colab": {
          "base_uri": "https://localhost:8080/"
        },
        "outputId": "4153ded1-dcc0-4325-ec00-e2081908dac0"
      },
      "outputs": [
        {
          "output_type": "stream",
          "name": "stdout",
          "text": [
            "--2023-10-30 07:01:43--  https://raw.githubusercontent.com/pvateekul/2110531_DSDE_2023s1/main/code/Week10_Spark/netflix-rotten-tomatoes-metacritic-imdb.csv\n",
            "Resolving raw.githubusercontent.com (raw.githubusercontent.com)... 185.199.108.133, 185.199.109.133, 185.199.110.133, ...\n",
            "Connecting to raw.githubusercontent.com (raw.githubusercontent.com)|185.199.108.133|:443... connected.\n",
            "HTTP request sent, awaiting response... 200 OK\n",
            "Length: 14767685 (14M) [text/plain]\n",
            "Saving to: ‘netflix-rotten-tomatoes-metacritic-imdb.csv.1’\n",
            "\n",
            "netflix-rotten-toma 100%[===================>]  14.08M  90.7MB/s    in 0.2s    \n",
            "\n",
            "2023-10-30 07:01:43 (90.7 MB/s) - ‘netflix-rotten-tomatoes-metacritic-imdb.csv.1’ saved [14767685/14767685]\n",
            "\n"
          ]
        }
      ],
      "source": [
        "!wget https://raw.githubusercontent.com/pvateekul/2110531_DSDE_2023s1/main/code/Week10_Spark/netflix-rotten-tomatoes-metacritic-imdb.csv"
      ]
    },
    {
      "cell_type": "code",
      "source": [
        "path = '/content/netflix-rotten-tomatoes-metacritic-imdb.csv'"
      ],
      "metadata": {
        "id": "3T5McE5SD0QB"
      },
      "execution_count": null,
      "outputs": []
    },
    {
      "cell_type": "code",
      "source": [
        "df = spark.read.option(\"delimiter\", \",\").option(\"header\", True).csv(path)\n"
      ],
      "metadata": {
        "id": "b6jz_eQMD8Jr"
      },
      "execution_count": null,
      "outputs": []
    },
    {
      "cell_type": "code",
      "source": [
        "df.show()"
      ],
      "metadata": {
        "colab": {
          "base_uri": "https://localhost:8080/"
        },
        "id": "81NEKZUNEZVo",
        "outputId": "7e1f3da3-8679-49db-faad-93261cabd9b5"
      },
      "execution_count": null,
      "outputs": [
        {
          "output_type": "stream",
          "name": "stdout",
          "text": [
            "+--------------------+--------------------+--------------------+--------------------+---------------+----------------+--------------------+------------+--------------------+--------------------+--------------------+-----------+----------+---------------------+----------------+---------------+--------------------+------------+------------+--------------------+--------------------+--------------------+--------------------+--------------------+----------+--------------------+--------------------+--------------------+------------+\n",
            "|               Title|               Genre|                Tags|           Languages|Series or Movie|Hidden Gem Score|Country Availability|     Runtime|            Director|              Writer|              Actors|View Rating|IMDb Score|Rotten Tomatoes Score|Metacritic Score|Awards Received|Awards Nominated For|   Boxoffice|Release Date|Netflix Release Date|    Production House|        Netflix Link|           IMDb Link|             Summary|IMDb Votes|               Image|              Poster|        TMDb Trailer|Trailer Site|\n",
            "+--------------------+--------------------+--------------------+--------------------+---------------+----------------+--------------------+------------+--------------------+--------------------+--------------------+-----------+----------+---------------------+----------------+---------------+--------------------+------------+------------+--------------------+--------------------+--------------------+--------------------+--------------------+----------+--------------------+--------------------+--------------------+------------+\n",
            "|    Lets Fight Ghost|Crime, Drama, Fan...|Comedy Programmes...|    Swedish, Spanish|         Series|             4.3|            Thailand|< 30 minutes|     Tomas Alfredson|John Ajvide Lindq...|Kåre Hedebrant, P...|          R|       7.9|                 98.0|            82.0|           74.0|                57.0|  $2,122,065| 12 Dec 2008|          2021-03-04|Canal+, Sandrew M...|https://www.netfl...|https://www.imdb....|A med student wit...|  205926.0|https://occ-0-470...|https://m.media-a...|                NULL|        NULL|\n",
            "| HOW TO BUILD A GIRL|              Comedy|Dramas,Comedies,F...|             English|          Movie|             7.0|              Canada|    1-2 hour|       Coky Giedroyc|       Caitlin Moran|Paddy Considine, ...|          R|       5.8|                 79.0|            69.0|            1.0|                NULL|     $70,632| 08 May 2020|          2021-03-04|Film 4, Monumenta...|https://www.netfl...|https://www.imdb....|When nerdy Johann...|    2838.0|https://occ-0-108...|https://m.media-a...|https://www.youtu...|     YouTube|\n",
            "|          Centigrade|     Drama, Thriller|           Thrillers|             English|          Movie|             6.4|              Canada|    1-2 hour|       Brendan Walsh|Brendan Walsh, Da...|Genesis Rodriguez...|    Unrated|       4.3|                 NULL|            46.0|           NULL|                NULL|     $16,263| 28 Aug 2020|          2021-03-04|                NULL|https://www.netfl...|https://www.imdb....|Trapped in a froz...|    1720.0|https://occ-0-108...|https://m.media-a...|https://www.youtu...|     YouTube|\n",
            "|               ANNE+|               Drama|TV Dramas,Romanti...|             Turkish|         Series|             7.7| Belgium,Netherlands|< 30 minutes|                NULL|                NULL|Vahide Perçin, Go...|       NULL|       6.5|                 NULL|            NULL|            1.0|                NULL|        NULL| 01 Oct 2016|          2021-03-04|                NULL|https://www.netfl...|https://www.imdb....|Upon moving into ...|    1147.0|https://occ-0-148...|https://m.media-a...|                NULL|        NULL|\n",
            "|               Moxie|Animation, Short,...|Social Issue Dram...|             English|          Movie|             8.1|Lithuania,Poland,...|    1-2 hour|       Stephen Irwin|                NULL|        Ragga Gudrun|       NULL|       6.3|                 NULL|            NULL|           NULL|                 4.0|        NULL| 22 Sep 2011|          2021-03-04|                NULL|https://www.netfl...|https://www.imdb....|Inspired by her m...|      63.0|https://occ-0-403...|https://m.media-a...|                NULL|        NULL|\n",
            "|    The Con-Heartist|     Comedy, Romance|Romantic Comedies...|                Thai|          Movie|             8.6|            Thailand|     > 2 hrs|       Mez Tharatorn|Pattaranad Bhiboo...|Thiti Mahayotaruk...|       NULL|       7.4|                 NULL|            NULL|           NULL|                NULL|        NULL| 03 Dec 2020|          2021-03-03|                NULL|https://www.netfl...|https://www.imdb....|After her ex-boyf...|     131.0|https://occ-0-218...|https://m.media-a...|https://www.youtu...|     YouTube|\n",
            "|        Gleboka woda|               Drama|TV Dramas,Polish ...|              Polish|         Series|             8.7|              Poland|< 30 minutes|                NULL|                NULL|Marcin Dorocinski...|       NULL|       7.5|                 NULL|            NULL|            2.0|                 4.0|        NULL| 14 Jun 2011|          2021-03-03|                NULL|https://www.netfl...|https://www.imdb....|A group of social...|      47.0|https://occ-0-250...|https://m.media-a...|                NULL|        NULL|\n",
            "|            Instynkt|               Crime|TV Dramas,Crime T...|              Polish|         Series|             6.9|              Poland|< 30 minutes|                NULL|                NULL|Pawel Królikowski...|       NULL|       3.9|                 NULL|            NULL|           NULL|                NULL|        NULL| 03 Mar 2011|          2021-03-03|                NULL|https://www.netfl...|https://www.imdb....|An enigmatic comm...|     107.0|https://occ-0-250...|https://m.media-a...|                NULL|        NULL|\n",
            "|       Only a Mother|               Drama|Social Issue Dram...|             Swedish|          Movie|             8.3|Lithuania,Poland,...|    1-2 hour|         Alf Sjöberg|   Ivar Lo-Johansson|Ulf Palme, Ragnar...|       NULL|       6.7|                 NULL|            NULL|            2.0|                 1.0|        NULL| 31 Oct 1949|          2021-03-03|                NULL|https://www.netfl...|https://www.imdb....|An unhappily marr...|      88.0|https://occ-0-285...|https://m.media-a...|                NULL|        NULL|\n",
            "|          Snowroller|              Comedy|Sports Movies,Spo...|Swedish, English,...|          Movie|             5.3|Lithuania,Poland,...|    1-2 hour|         Lasse Åberg|Lasse Åberg, Bo J...|Jon Skolmen, Ceci...|       NULL|       6.6|                 NULL|            NULL|           NULL|                NULL|        NULL| 04 Oct 1985|          2021-03-03|                NULL|https://www.netfl...|https://www.imdb....|Two friends take ...|    5926.0|https://occ-0-285...|https://m.media-a...|                NULL|        NULL|\n",
            "|        Sunes Summer|Comedy, Family, F...|Children & Family...|             Swedish|          Movie|             7.5|Lithuania,Poland,...|    1-2 hour|        Jon Holmberg|Jon Holmberg, Dan...|Elis Gerdt, Tea S...|       NULL|       5.5|                 NULL|            NULL|           NULL|                 7.0|        NULL| 30 Nov 2018|          2021-03-03|                NULL|https://www.netfl...|https://www.imdb....|A family camping ...|     560.0|https://occ-0-285...|https://m.media-a...|                NULL|        NULL|\n",
            "|       The Invisible|Crime, Drama, Fan...|Thriller Movies,M...|             English|          Movie|             2.0|Lithuania,Poland,...|    1-2 hour|      David S. Goyer|Christine Roum, M...|Marcia Gay Harden...|      PG-13|       6.2|                 20.0|            36.0|           NULL|                 1.0| $20,578,909| 27 Apr 2007|          2021-03-03|Touchstone Pictur...|https://www.netfl...|https://www.imdb....|Critically injure...|   34738.0|https://occ-0-285...|https://m.media-a...|https://www.youtu...|     YouTube|\n",
            "|The Simple Minded...|               Drama|Social Issue Dram...|    Scanian, Swedish|          Movie|             7.8|Lithuania,Poland,...|    1-2 hour|      Hans Alfredson|      Hans Alfredson|Stellan Skarsgård...|       NULL|       7.6|                 92.0|            NULL|            7.0|                 2.0|        NULL| 01 Sep 1985|          2021-03-03|Svensk Filmindust...|https://www.netfl...|https://www.imdb....|A good-natured fa...|    2870.0|https://occ-0-285...|https://m.media-a...|                NULL|        NULL|\n",
            "|The Stig-Helmer S...|       Comedy, Drama|Romantic Dramas,R...|    Swedish, English|          Movie|             6.4|Lithuania,Poland,...|    1-2 hour|         Lasse Åberg|         Lasse Åberg|Jon Skolmen, Ida ...|       NULL|       4.5|                 NULL|            NULL|           NULL|                 1.0|        NULL| 25 Dec 2011|          2021-03-03|                NULL|https://www.netfl...|https://www.imdb....|Popular character...|    1666.0|https://occ-0-285...|https://m.media-a...|                NULL|        NULL|\n",
            "|     To Kill a Child|        Short, Drama|Dramas,Swedish Mo...|             Spanish|          Movie|             8.8|Lithuania,Poland,...|< 30 minutes|José Esteban Alen...|José Esteban Alen...|Manolo Solo, Roge...|       NULL|       7.7|                 NULL|            NULL|            2.0|                 5.0|        NULL| 07 Feb 2011|          2021-03-03|                NULL|https://www.netfl...|https://www.imdb....|A car accident in...|      78.0|https://occ-0-285...|https://m.media-a...|                NULL|        NULL|\n",
            "|               Joker|Crime, Drama, Thr...|Dark Comedies,Cri...|             English|          Movie|             3.5|Lithuania,Poland,...|    1-2 hour|       Todd Phillips|Scott Silver, Jer...|Joaquin Phoenix, ...|          R|       8.4|                 68.0|            59.0|          112.0|               228.0|$335,451,311| 04 Oct 2019|          2021-03-03|Bron Studios, Cre...|https://www.netfl...|https://www.imdb....|A practical joker...|  951938.0|https://occ-0-285...|https://m.media-a...|https://www.youtu...|     YouTube|\n",
            "|                   I|Action, Adventure...|Dramas,Swedish Mo...|   English, Sanskrit|          Movie|             2.8|Lithuania,Poland,...|    1-2 hour|        George Lucas|        George Lucas|Liam Neeson, Ewan...|         PG|       6.5|                 52.0|            51.0|           26.0|                69.0|$474,544,677| 19 May 1999|          2021-03-03|      Lucasfilm Ltd.|https://www.netfl...|https://www.imdb....|A young man seeki...|  733336.0|https://occ-0-285...|https://m.media-a...|https://www.youtu...|     YouTube|\n",
            "|    Harrys Daughters|Adventure, Drama,...|Dramas,Swedish Mo...|             English|          Movie|             4.4|Lithuania,Poland,...|    1-2 hour|         David Yates|Steve Kloves, J.K...|Ralph Fiennes, Al...|      PG-13|       8.1|                 96.0|            85.0|           46.0|                94.0|$381,409,310| 15 Jul 2011|          2021-03-03|Heyday Films, Mov...|https://www.netfl...|https://www.imdb....|As two sisters bo...|  766594.0|https://occ-0-285...|https://m.media-a...|https://www.youtu...|     YouTube|\n",
            "|       Gyllene Tider|               Music|Music & Musicals,...|             Swedish|          Movie|             8.8|Lithuania,Poland,...|  30-60 mins|     Lasse Hallström|                NULL|Micke Andersson, ...|       NULL|       7.7|                 NULL|            NULL|           NULL|                NULL|        NULL|        NULL|          2021-03-03|                NULL|https://www.netfl...|https://www.imdb....|This music docume...|      19.0|https://occ-0-285...|https://m.media-a...|                NULL|        NULL|\n",
            "|      False As Water|     Drama, Thriller|Psychological Thr...|             Swedish|          Movie|             7.9|Lithuania,Poland,...|    1-2 hour|      Hans Alfredson|      Hans Alfredson|Marie Göranzon, S...|       NULL|       6.3|                 NULL|            NULL|            3.0|                NULL|        NULL| 08 Nov 1985|          2021-03-03|                NULL|https://www.netfl...|https://www.imdb....|The illicit roman...|     546.0|https://occ-0-285...|https://m.media-a...|                NULL|        NULL|\n",
            "+--------------------+--------------------+--------------------+--------------------+---------------+----------------+--------------------+------------+--------------------+--------------------+--------------------+-----------+----------+---------------------+----------------+---------------+--------------------+------------+------------+--------------------+--------------------+--------------------+--------------------+--------------------+----------+--------------------+--------------------+--------------------+------------+\n",
            "only showing top 20 rows\n",
            "\n"
          ]
        }
      ]
    },
    {
      "cell_type": "code",
      "source": [
        "cols = [c.replace(' ', '_') for c in df.columns]\n",
        "cols"
      ],
      "metadata": {
        "colab": {
          "base_uri": "https://localhost:8080/"
        },
        "id": "RXBtfCMNIrK-",
        "outputId": "42cd6a74-4bf7-49ba-c4f5-867df25bab42"
      },
      "execution_count": null,
      "outputs": [
        {
          "output_type": "execute_result",
          "data": {
            "text/plain": [
              "['Title',\n",
              " 'Genre',\n",
              " 'Tags',\n",
              " 'Languages',\n",
              " 'Series_or_Movie',\n",
              " 'Hidden_Gem_Score',\n",
              " 'Country_Availability',\n",
              " 'Runtime',\n",
              " 'Director',\n",
              " 'Writer',\n",
              " 'Actors',\n",
              " 'View_Rating',\n",
              " 'IMDb_Score',\n",
              " 'Rotten_Tomatoes_Score',\n",
              " 'Metacritic_Score',\n",
              " 'Awards_Received',\n",
              " 'Awards_Nominated_For',\n",
              " 'Boxoffice',\n",
              " 'Release_Date',\n",
              " 'Netflix_Release_Date',\n",
              " 'Production_House',\n",
              " 'Netflix_Link',\n",
              " 'IMDb_Link',\n",
              " 'Summary',\n",
              " 'IMDb_Votes',\n",
              " 'Image',\n",
              " 'Poster',\n",
              " 'TMDb_Trailer',\n",
              " 'Trailer_Site']"
            ]
          },
          "metadata": {},
          "execution_count": 100
        }
      ]
    },
    {
      "cell_type": "code",
      "source": [
        "df = df.toDF(*cols)"
      ],
      "metadata": {
        "id": "QmCa6JyWIzRE"
      },
      "execution_count": null,
      "outputs": []
    },
    {
      "cell_type": "code",
      "source": [
        "df.columns"
      ],
      "metadata": {
        "colab": {
          "base_uri": "https://localhost:8080/"
        },
        "id": "DoNq7EqsI275",
        "outputId": "d9989287-544c-4bfb-b977-894899c8f268"
      },
      "execution_count": null,
      "outputs": [
        {
          "output_type": "execute_result",
          "data": {
            "text/plain": [
              "['Title',\n",
              " 'Genre',\n",
              " 'Tags',\n",
              " 'Languages',\n",
              " 'Series_or_Movie',\n",
              " 'Hidden_Gem_Score',\n",
              " 'Country_Availability',\n",
              " 'Runtime',\n",
              " 'Director',\n",
              " 'Writer',\n",
              " 'Actors',\n",
              " 'View_Rating',\n",
              " 'IMDb_Score',\n",
              " 'Rotten_Tomatoes_Score',\n",
              " 'Metacritic_Score',\n",
              " 'Awards_Received',\n",
              " 'Awards_Nominated_For',\n",
              " 'Boxoffice',\n",
              " 'Release_Date',\n",
              " 'Netflix_Release_Date',\n",
              " 'Production_House',\n",
              " 'Netflix_Link',\n",
              " 'IMDb_Link',\n",
              " 'Summary',\n",
              " 'IMDb_Votes',\n",
              " 'Image',\n",
              " 'Poster',\n",
              " 'TMDb_Trailer',\n",
              " 'Trailer_Site']"
            ]
          },
          "metadata": {},
          "execution_count": 102
        }
      ]
    },
    {
      "cell_type": "code",
      "source": [
        "df.printSchema()"
      ],
      "metadata": {
        "colab": {
          "base_uri": "https://localhost:8080/"
        },
        "id": "iGxsnxN2I8dX",
        "outputId": "04b611d8-386d-4d10-bc10-ce8cba63b482"
      },
      "execution_count": null,
      "outputs": [
        {
          "output_type": "stream",
          "name": "stdout",
          "text": [
            "root\n",
            " |-- Title: string (nullable = true)\n",
            " |-- Genre: string (nullable = true)\n",
            " |-- Tags: string (nullable = true)\n",
            " |-- Languages: string (nullable = true)\n",
            " |-- Series_or_Movie: string (nullable = true)\n",
            " |-- Hidden_Gem_Score: string (nullable = true)\n",
            " |-- Country_Availability: string (nullable = true)\n",
            " |-- Runtime: string (nullable = true)\n",
            " |-- Director: string (nullable = true)\n",
            " |-- Writer: string (nullable = true)\n",
            " |-- Actors: string (nullable = true)\n",
            " |-- View_Rating: string (nullable = true)\n",
            " |-- IMDb_Score: string (nullable = true)\n",
            " |-- Rotten_Tomatoes_Score: string (nullable = true)\n",
            " |-- Metacritic_Score: string (nullable = true)\n",
            " |-- Awards_Received: string (nullable = true)\n",
            " |-- Awards_Nominated_For: string (nullable = true)\n",
            " |-- Boxoffice: string (nullable = true)\n",
            " |-- Release_Date: string (nullable = true)\n",
            " |-- Netflix_Release_Date: string (nullable = true)\n",
            " |-- Production_House: string (nullable = true)\n",
            " |-- Netflix_Link: string (nullable = true)\n",
            " |-- IMDb_Link: string (nullable = true)\n",
            " |-- Summary: string (nullable = true)\n",
            " |-- IMDb_Votes: string (nullable = true)\n",
            " |-- Image: string (nullable = true)\n",
            " |-- Poster: string (nullable = true)\n",
            " |-- TMDb_Trailer: string (nullable = true)\n",
            " |-- Trailer_Site: string (nullable = true)\n",
            "\n"
          ]
        }
      ]
    },
    {
      "cell_type": "markdown",
      "source": [
        "Spark SQL seems to not perform any guess on datatype.  To convert to proper data type, we cast each column to proper type using **'cast'** and replace back to the same column using **'withColumn'**."
      ],
      "metadata": {
        "id": "rpUFnt2_JdlS"
      }
    },
    {
      "cell_type": "code",
      "source": [
        "cols = ['Hidden_Gem_Score', 'IMDb_Score', 'Rotten_Tomatoes_Score', 'Metacritic_Score', 'Awards_Received', 'Awards_Nominated_For','IMDb_Votes']\n",
        "for c in cols:\n",
        "    df = df.withColumn(c, col(c).cast('double'))"
      ],
      "metadata": {
        "id": "-ydUwc1tJclk"
      },
      "execution_count": null,
      "outputs": []
    },
    {
      "cell_type": "code",
      "source": [
        "df.printSchema()"
      ],
      "metadata": {
        "colab": {
          "base_uri": "https://localhost:8080/"
        },
        "id": "90BwdFc3KaxA",
        "outputId": "7a50b55b-a0a8-4c68-fcce-ab56bfe07290"
      },
      "execution_count": null,
      "outputs": [
        {
          "output_type": "stream",
          "name": "stdout",
          "text": [
            "root\n",
            " |-- Title: string (nullable = true)\n",
            " |-- Genre: string (nullable = true)\n",
            " |-- Tags: string (nullable = true)\n",
            " |-- Languages: string (nullable = true)\n",
            " |-- Series_or_Movie: string (nullable = true)\n",
            " |-- Hidden_Gem_Score: double (nullable = true)\n",
            " |-- Country_Availability: string (nullable = true)\n",
            " |-- Runtime: string (nullable = true)\n",
            " |-- Director: string (nullable = true)\n",
            " |-- Writer: string (nullable = true)\n",
            " |-- Actors: string (nullable = true)\n",
            " |-- View_Rating: string (nullable = true)\n",
            " |-- IMDb_Score: double (nullable = true)\n",
            " |-- Rotten_Tomatoes_Score: double (nullable = true)\n",
            " |-- Metacritic_Score: double (nullable = true)\n",
            " |-- Awards_Received: double (nullable = true)\n",
            " |-- Awards_Nominated_For: double (nullable = true)\n",
            " |-- Boxoffice: string (nullable = true)\n",
            " |-- Release_Date: string (nullable = true)\n",
            " |-- Netflix_Release_Date: string (nullable = true)\n",
            " |-- Production_House: string (nullable = true)\n",
            " |-- Netflix_Link: string (nullable = true)\n",
            " |-- IMDb_Link: string (nullable = true)\n",
            " |-- Summary: string (nullable = true)\n",
            " |-- IMDb_Votes: double (nullable = true)\n",
            " |-- Image: string (nullable = true)\n",
            " |-- Poster: string (nullable = true)\n",
            " |-- TMDb_Trailer: string (nullable = true)\n",
            " |-- Trailer_Site: string (nullable = true)\n",
            "\n"
          ]
        }
      ]
    },
    {
      "cell_type": "code",
      "source": [
        "df.show(3)"
      ],
      "metadata": {
        "colab": {
          "base_uri": "https://localhost:8080/"
        },
        "id": "Xovew2EeK123",
        "outputId": "d6f7e79f-94ea-4ba4-cf0a-7ecd73237493"
      },
      "execution_count": null,
      "outputs": [
        {
          "output_type": "stream",
          "name": "stdout",
          "text": [
            "+-------------------+--------------------+--------------------+----------------+---------------+----------------+--------------------+------------+---------------+--------------------+--------------------+-----------+----------+---------------------+----------------+---------------+--------------------+----------+------------+--------------------+--------------------+--------------------+--------------------+--------------------+----------+--------------------+--------------------+--------------------+------------+\n",
            "|              Title|               Genre|                Tags|       Languages|Series_or_Movie|Hidden_Gem_Score|Country_Availability|     Runtime|       Director|              Writer|              Actors|View_Rating|IMDb_Score|Rotten_Tomatoes_Score|Metacritic_Score|Awards_Received|Awards_Nominated_For| Boxoffice|Release_Date|Netflix_Release_Date|    Production_House|        Netflix_Link|           IMDb_Link|             Summary|IMDb_Votes|               Image|              Poster|        TMDb_Trailer|Trailer_Site|\n",
            "+-------------------+--------------------+--------------------+----------------+---------------+----------------+--------------------+------------+---------------+--------------------+--------------------+-----------+----------+---------------------+----------------+---------------+--------------------+----------+------------+--------------------+--------------------+--------------------+--------------------+--------------------+----------+--------------------+--------------------+--------------------+------------+\n",
            "|   Lets Fight Ghost|Crime, Drama, Fan...|Comedy Programmes...|Swedish, Spanish|         Series|             4.3|            Thailand|< 30 minutes|Tomas Alfredson|John Ajvide Lindq...|Kåre Hedebrant, P...|          R|       7.9|                 98.0|            82.0|           74.0|                57.0|$2,122,065| 12 Dec 2008|          2021-03-04|Canal+, Sandrew M...|https://www.netfl...|https://www.imdb....|A med student wit...|  205926.0|https://occ-0-470...|https://m.media-a...|                NULL|        NULL|\n",
            "|HOW TO BUILD A GIRL|              Comedy|Dramas,Comedies,F...|         English|          Movie|             7.0|              Canada|    1-2 hour|  Coky Giedroyc|       Caitlin Moran|Paddy Considine, ...|          R|       5.8|                 79.0|            69.0|            1.0|                NULL|   $70,632| 08 May 2020|          2021-03-04|Film 4, Monumenta...|https://www.netfl...|https://www.imdb....|When nerdy Johann...|    2838.0|https://occ-0-108...|https://m.media-a...|https://www.youtu...|     YouTube|\n",
            "|         Centigrade|     Drama, Thriller|           Thrillers|         English|          Movie|             6.4|              Canada|    1-2 hour|  Brendan Walsh|Brendan Walsh, Da...|Genesis Rodriguez...|    Unrated|       4.3|                 NULL|            46.0|           NULL|                NULL|   $16,263| 28 Aug 2020|          2021-03-04|                NULL|https://www.netfl...|https://www.imdb....|Trapped in a froz...|    1720.0|https://occ-0-108...|https://m.media-a...|https://www.youtu...|     YouTube|\n",
            "+-------------------+--------------------+--------------------+----------------+---------------+----------------+--------------------+------------+---------------+--------------------+--------------------+-----------+----------+---------------------+----------------+---------------+--------------------+----------+------------+--------------------+--------------------+--------------------+--------------------+--------------------+----------+--------------------+--------------------+--------------------+------------+\n",
            "only showing top 3 rows\n",
            "\n"
          ]
        }
      ]
    },
    {
      "cell_type": "markdown",
      "metadata": {
        "id": "2vLSiobKlOuV"
      },
      "source": [
        "## What is the maximum and average of the overall hidden gem score?"
      ]
    },
    {
      "cell_type": "code",
      "execution_count": null,
      "metadata": {
        "id": "AQFDwFqrlOuW"
      },
      "outputs": [],
      "source": [
        "from pyspark.sql.functions import avg, min, max, countDistinct"
      ]
    },
    {
      "cell_type": "code",
      "source": [
        "df.select(max('Hidden_Gem_Score'), avg('Hidden_Gem_Score')).show()"
      ],
      "metadata": {
        "colab": {
          "base_uri": "https://localhost:8080/"
        },
        "id": "AcV6HNrbL0Xw",
        "outputId": "e4307496-dd7b-45c9-b223-83cb17b49a42"
      },
      "execution_count": null,
      "outputs": [
        {
          "output_type": "stream",
          "name": "stdout",
          "text": [
            "+---------------------+---------------------+\n",
            "|max(Hidden_Gem_Score)|avg(Hidden_Gem_Score)|\n",
            "+---------------------+---------------------+\n",
            "|                  9.8|    5.937551386501226|\n",
            "+---------------------+---------------------+\n",
            "\n"
          ]
        }
      ]
    },
    {
      "cell_type": "code",
      "source": [
        "df.filter(df[\"Hidden_Gem_Score\"] ==9.8).select('Director').show()"
      ],
      "metadata": {
        "colab": {
          "base_uri": "https://localhost:8080/"
        },
        "id": "P1Ars1lxWJj4",
        "outputId": "240765bc-71a7-412e-8c6a-86a025f7b5ba"
      },
      "execution_count": null,
      "outputs": [
        {
          "output_type": "stream",
          "name": "stdout",
          "text": [
            "+-----------+\n",
            "|   Director|\n",
            "+-----------+\n",
            "|Dorin Marcu|\n",
            "+-----------+\n",
            "\n"
          ]
        }
      ]
    },
    {
      "cell_type": "markdown",
      "metadata": {
        "id": "4GCGMp-zlOuW"
      },
      "source": [
        "## How many movies that are available in Korea?"
      ]
    },
    {
      "cell_type": "markdown",
      "source": [
        "Contains the other element. Returns a boolean Column based on a string match.\n",
        "*`contains`*\n",
        "link: https://spark.apache.org/docs/3.1.3/api/python/reference/api/pyspark.sql.Column.contains.html#pyspark.sql.Column.contains"
      ],
      "metadata": {
        "id": "NAB1bO2Y4RL7"
      }
    },
    {
      "cell_type": "code",
      "source": [
        "# filter rows from df which sentences in column \"Languages\" contains \"Korean\"\n",
        "df2 = df.filter(df.Languages.contains('Korean')).collect()\n",
        "len(df2)"
      ],
      "metadata": {
        "colab": {
          "base_uri": "https://localhost:8080/"
        },
        "id": "2UANRC-ZwE7X",
        "outputId": "bae9dacd-a663-4db8-b68f-12f61063d543"
      },
      "execution_count": null,
      "outputs": [
        {
          "output_type": "execute_result",
          "data": {
            "text/plain": [
              "735"
            ]
          },
          "metadata": {},
          "execution_count": 110
        }
      ]
    },
    {
      "cell_type": "markdown",
      "metadata": {
        "id": "LWlhTmjJlOuW"
      },
      "source": [
        "## Which director has the highest average hidden gem score?"
      ]
    },
    {
      "cell_type": "code",
      "source": [
        "df3 = spark.createDataFrame(df.groupby('Director').agg({'Hidden_Gem_Score': 'avg'}).collect())"
      ],
      "metadata": {
        "id": "rkSiob4z-hs1"
      },
      "execution_count": null,
      "outputs": []
    },
    {
      "cell_type": "code",
      "source": [
        "df3.show()"
      ],
      "metadata": {
        "colab": {
          "base_uri": "https://localhost:8080/"
        },
        "id": "xSR5Fr2zBc6T",
        "outputId": "cb11ecd8-05eb-4328-eb7a-3f7d947f0f5e"
      },
      "execution_count": null,
      "outputs": [
        {
          "output_type": "stream",
          "name": "stdout",
          "text": [
            "+--------------------+---------------------+\n",
            "|            Director|avg(Hidden_Gem_Score)|\n",
            "+--------------------+---------------------+\n",
            "|       Arne Mattsson|                  7.7|\n",
            "|   Gregory Kirchhoff|                  8.5|\n",
            "|     Alexander Nanau|                  7.8|\n",
            "|      Egor Abramenko|                  3.1|\n",
            "|Christian Le Hémonet|                  7.3|\n",
            "|        Danial Rifki|                  8.4|\n",
            "| Natalie Erika James|                  3.4|\n",
            "|Qaushiq Mukherjee...|                  6.0|\n",
            "|      Péter Bergendy|                  7.7|\n",
            "|         Erol Özlevi|                  6.4|\n",
            "| Matthias Temmermans|                  7.6|\n",
            "|   Wash Westmoreland|    3.233333333333333|\n",
            "|      Kôichi Chigira|                 8.05|\n",
            "|      Hong Chang-Pyo|                  7.9|\n",
            "|       Patricia Font|                  6.8|\n",
            "|   Jennifer Westcott|                  6.5|\n",
            "|       Shingo Suzuki|                  8.1|\n",
            "|        Go-Woon Jeon|                  8.2|\n",
            "|          Manish Jha|                  5.9|\n",
            "|     Takuro Watanabe|                 NULL|\n",
            "+--------------------+---------------------+\n",
            "only showing top 20 rows\n",
            "\n"
          ]
        }
      ]
    },
    {
      "cell_type": "code",
      "source": [
        "df3.select(max('avg(Hidden_Gem_Score)')).show()"
      ],
      "metadata": {
        "colab": {
          "base_uri": "https://localhost:8080/"
        },
        "id": "6gDXLLApBkRp",
        "outputId": "a364e623-2df5-48fe-ec7e-e1e5f7bc5668"
      },
      "execution_count": null,
      "outputs": [
        {
          "output_type": "stream",
          "name": "stdout",
          "text": [
            "+--------------------------+\n",
            "|max(avg(Hidden_Gem_Score))|\n",
            "+--------------------------+\n",
            "|                       9.8|\n",
            "+--------------------------+\n",
            "\n"
          ]
        }
      ]
    },
    {
      "cell_type": "code",
      "source": [
        "df3.filter(df3['avg(Hidden_Gem_Score)']>= 9.8).show()"
      ],
      "metadata": {
        "colab": {
          "base_uri": "https://localhost:8080/"
        },
        "id": "7QLzbRb2Cwxg",
        "outputId": "3e3dac38-bd59-4f95-d741-8e4af7008f7b"
      },
      "execution_count": null,
      "outputs": [
        {
          "output_type": "stream",
          "name": "stdout",
          "text": [
            "+-----------+---------------------+\n",
            "|   Director|avg(Hidden_Gem_Score)|\n",
            "+-----------+---------------------+\n",
            "|Dorin Marcu|                  9.8|\n",
            "+-----------+---------------------+\n",
            "\n"
          ]
        }
      ]
    },
    {
      "cell_type": "markdown",
      "metadata": {
        "id": "iX0J1ON3lOuW"
      },
      "source": [
        "## How many genres are there in the dataset?"
      ]
    },
    {
      "cell_type": "markdown",
      "source": [
        "**ChatGPT recommendation**\n",
        "\n",
        "This code does the following:\n",
        "\n",
        "It creates a Spark session.\n",
        "\n",
        "It creates a DataFrame from the sample data.\n",
        "\n",
        "It splits the 'Genre' column by commas and then uses the explode function to separate each genre into a new row.\n",
        "\n",
        "It counts the number of unique genres using the distinct function.\n",
        "\n",
        "Finally, it prints the count of unique genres.\n",
        "\n",
        "Make sure to adapt the code to your actual PySpark DataFrame and the 'Genre' column in your dataset."
      ],
      "metadata": {
        "id": "Uwb3q8QgOltk"
      }
    },
    {
      "cell_type": "code",
      "source": [
        "#Thank you ChatGPT\n",
        "from pyspark.sql.functions import split, explode\n",
        "df4 = df.select(explode(split(df.Genre, ',\\s*')).alias('Genre'))\n",
        "unique_genres_count = df4.select('Genre').distinct().count()\n",
        "print(f\"Number of unique genres: {unique_genres_count}\")"
      ],
      "metadata": {
        "colab": {
          "base_uri": "https://localhost:8080/"
        },
        "id": "NswBs-UUuLvH",
        "outputId": "7d523d5c-3927-4430-dab0-d48745c66bd4"
      },
      "execution_count": null,
      "outputs": [
        {
          "output_type": "stream",
          "name": "stdout",
          "text": [
            "Number of unique genres: 28\n"
          ]
        }
      ]
    },
    {
      "cell_type": "code",
      "source": [
        "df4.select('Genre').show()"
      ],
      "metadata": {
        "colab": {
          "base_uri": "https://localhost:8080/"
        },
        "id": "wk9yRUr9Rb-d",
        "outputId": "25ae00fd-0e5d-48d6-88d7-b5a005b8f46e"
      },
      "execution_count": null,
      "outputs": [
        {
          "output_type": "stream",
          "name": "stdout",
          "text": [
            "+---------+\n",
            "|    Genre|\n",
            "+---------+\n",
            "|    Crime|\n",
            "|    Drama|\n",
            "|  Fantasy|\n",
            "|   Horror|\n",
            "|  Romance|\n",
            "|   Comedy|\n",
            "|    Drama|\n",
            "| Thriller|\n",
            "|    Drama|\n",
            "|Animation|\n",
            "|    Short|\n",
            "|    Drama|\n",
            "|   Comedy|\n",
            "|  Romance|\n",
            "|    Drama|\n",
            "|    Crime|\n",
            "|    Drama|\n",
            "|   Comedy|\n",
            "|   Comedy|\n",
            "|   Family|\n",
            "+---------+\n",
            "only showing top 20 rows\n",
            "\n"
          ]
        }
      ]
    },
    {
      "cell_type": "code",
      "source": [
        "df.select('Genre').show()"
      ],
      "metadata": {
        "colab": {
          "base_uri": "https://localhost:8080/"
        },
        "id": "JBZVRm0cVCin",
        "outputId": "0d14300c-50e2-4502-df34-18a8eb39eccd"
      },
      "execution_count": null,
      "outputs": [
        {
          "output_type": "stream",
          "name": "stdout",
          "text": [
            "+--------------------+\n",
            "|               Genre|\n",
            "+--------------------+\n",
            "|Crime, Drama, Fan...|\n",
            "|              Comedy|\n",
            "|     Drama, Thriller|\n",
            "|               Drama|\n",
            "|Animation, Short,...|\n",
            "|     Comedy, Romance|\n",
            "|               Drama|\n",
            "|               Crime|\n",
            "|               Drama|\n",
            "|              Comedy|\n",
            "|Comedy, Family, F...|\n",
            "|Crime, Drama, Fan...|\n",
            "|               Drama|\n",
            "|       Comedy, Drama|\n",
            "|        Short, Drama|\n",
            "|Crime, Drama, Thr...|\n",
            "|Action, Adventure...|\n",
            "|Adventure, Drama,...|\n",
            "|               Music|\n",
            "|     Drama, Thriller|\n",
            "+--------------------+\n",
            "only showing top 20 rows\n",
            "\n"
          ]
        }
      ]
    }
  ],
  "metadata": {
    "kernelspec": {
      "display_name": "Python 3 (ipykernel)",
      "language": "python",
      "name": "python3"
    },
    "language_info": {
      "codemirror_mode": {
        "name": "ipython",
        "version": 3
      },
      "file_extension": ".py",
      "mimetype": "text/x-python",
      "name": "python",
      "nbconvert_exporter": "python",
      "pygments_lexer": "ipython3",
      "version": "3.9.13"
    },
    "toc": {
      "base_numbering": 1,
      "nav_menu": {},
      "number_sections": true,
      "sideBar": true,
      "skip_h1_title": false,
      "title_cell": "Table of Contents",
      "title_sidebar": "Contents",
      "toc_cell": false,
      "toc_position": {},
      "toc_section_display": true,
      "toc_window_display": false
    },
    "varInspector": {
      "cols": {
        "lenName": 16,
        "lenType": 16,
        "lenVar": 40
      },
      "kernels_config": {
        "python": {
          "delete_cmd_postfix": "",
          "delete_cmd_prefix": "del ",
          "library": "var_list.py",
          "varRefreshCmd": "print(var_dic_list())"
        },
        "r": {
          "delete_cmd_postfix": ") ",
          "delete_cmd_prefix": "rm(",
          "library": "var_list.r",
          "varRefreshCmd": "cat(var_dic_list()) "
        }
      },
      "types_to_exclude": [
        "module",
        "function",
        "builtin_function_or_method",
        "instance",
        "_Feature"
      ],
      "window_display": false
    },
    "colab": {
      "provenance": []
    }
  },
  "nbformat": 4,
  "nbformat_minor": 0
}